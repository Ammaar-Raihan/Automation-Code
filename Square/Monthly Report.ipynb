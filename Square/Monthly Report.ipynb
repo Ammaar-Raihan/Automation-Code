{
 "cells": [
  {
   "cell_type": "markdown",
   "id": "c17413bd",
   "metadata": {},
   "source": [
    "21/1/2024\n",
    "The following code has been edited to remove any mentions of actual production file paths"
   ]
  },
  {
   "cell_type": "code",
   "execution_count": 1,
   "id": "bcfb3e8e",
   "metadata": {},
   "outputs": [],
   "source": [
    "import pandas as pd\n",
    "import os"
   ]
  },
  {
   "cell_type": "code",
   "execution_count": 2,
   "id": "8aa034e7",
   "metadata": {},
   "outputs": [],
   "source": [
    "FILE_PATH = \"file\\\\path\\\\\"\n",
    "file_list = []\n",
    "column_list = [\"LOCATION\",\n",
    "\"ACSVIEW_TIMESTAMP\",\n",
    "\"AUDIT_SESSION_ID\",\n",
    "\"MESSAGETEXT\",\n",
    "\"ACS_SERVER\",\n",
    "\"POLICY_SET_NAME\",\n",
    "\"PASSED\",\n",
    "\"NAS_IP_ADDRESS\",\n",
    "\"IDENTITY_GROUP\",\n",
    "\"SELECTED_AZN_PROFILES\",\n",
    "\"NETWORK_DEVICE_NAME\",\n",
    "\"AUTHENTICATION_METHOD\",\n",
    "\"CTS_SECURITY_GROUP\",\n",
    "\"NAS_PORT_ID\",\n",
    "\"DEVICE_TYPE\",\n",
    "\"USER_NAME\",\n",
    "\"AUTHORIZATION_RULE\",\n",
    "\"RESPONSE_TIME\",\n",
    "\"CALLING_STATION_ID\",\n",
    "\"IDENTITY_STORE\",\n",
    "\"SERVICE_TYPE\"]\n",
    "\n",
    "combined_df = pd.DataFrame()"
   ]
  },
  {
   "cell_type": "code",
   "execution_count": 3,
   "id": "58fec1ec",
   "metadata": {
    "scrolled": false
   },
   "outputs": [],
   "source": [
    "for root, dirs, files in os.walk(FILE_PATH):\n",
    "   for name in files:\n",
    "       file_list.append(os.path.join(root, name))"
   ]
  },
  {
   "cell_type": "code",
   "execution_count": 5,
   "id": "ac7d057c",
   "metadata": {},
   "outputs": [],
   "source": [
    "for file in file_list:\n",
    "    df1 = pd.read_csv(file, usecols=column_list)\n",
    "    \n",
    "    combined_df = pd.concat([combined_df, df1], ignore_index=True)"
   ]
  },
  {
   "cell_type": "code",
   "execution_count": null,
   "id": "d5e68ffc",
   "metadata": {
    "scrolled": true
   },
   "outputs": [],
   "source": [
    "combined_df = combined_df.sort_values(\"ACSVIEW_TIMESTAMP\")\n",
    "combined_df[\"AUTHORIZATION_RULE\"].fillna(\"''\", inplace = True)\n",
    "combined_df"
   ]
  },
  {
   "cell_type": "code",
   "execution_count": 8,
   "id": "737b7e7b",
   "metadata": {},
   "outputs": [],
   "source": [
    "def endpoint_count(df):\n",
    "    \n",
    "#     drop_col = [\"'MDM_SERVER_NAME'\",\"'FAILURE_REASON'\",\"'ID'\",\n",
    "#                 \"'NAS_IPV6_ADDRESS'\",\"'MSE_SERVER_NAME'\",\"'AUTHENTICATION_PROTOCOL'\",\n",
    "#                 \"'CREDENTIAL_CHECK'\",\"'MSE_RESPONSE_TIME'\",\"'ENDPOINTMATCHEDPROFILE'\",\"'MAPLOCATION'\"]\n",
    "    \n",
    "    auth_filter = [\"'Authentication succeeded'\", \"'Authentication failed'\"]\n",
    "\n",
    "#     endpoint_df = df.drop(columns=drop_col)\n",
    "#     endpoint_df = df[df[\"MESSAGETEXT\"].isin(auth_filter)]\n",
    "    endpoint_df = df.drop_duplicates(subset = \"USER_NAME\")\n",
    "    \n",
    "    endpoint_df.to_excel(FILE_PATH+ 'Total Endpoints ' +str(len(endpoint_df.index))+'.xlsx', index=False)"
   ]
  },
  {
   "cell_type": "code",
   "execution_count": 9,
   "id": "c50833a7",
   "metadata": {},
   "outputs": [],
   "source": [
    "def employee_byod(df):\n",
    "    # 'CIBC SQ Employee BYOD_IN' , \n",
    "    byod_df = df[df[\"AUTHORIZATION_RULE\"].str.contains(\"BYOD\", case=False)]\n",
    "    byod_df = byod_df[~byod_df[\"AUTHORIZATION_RULE\"].str.contains(\"redirect\", case=False)]\n",
    "    byod_df = byod_df[byod_df[\"MESSAGETEXT\"].str.contains(\"Authorize-Only succeeded\", case=False)]\n",
    "    \n",
    "    byod_df.to_excel(FILE_PATH+ 'BYOD Users - Graph.xlsx', index=False, sheet_name=\"Raw Data\")"
   ]
  },
  {
   "cell_type": "code",
   "execution_count": 10,
   "id": "4702d62b",
   "metadata": {},
   "outputs": [],
   "source": [
    "def cmc_guest(df):\n",
    "    guest_df = df[df[\"AUTHORIZATION_RULE\"].str.contains(\"CMC-GUEST\", case=False)]\n",
    "    guest_df = guest_df[~guest_df[\"AUTHORIZATION_RULE\"].str.contains(\"redirect\", case=False)]\n",
    "    guest_df = guest_df[guest_df[\"SELECTED_AZN_PROFILES\"].str.contains(\"PermitAccess\", case=False)]\n",
    "    guest_df = guest_df[guest_df[\"MESSAGETEXT\"].str.contains(\"Authorize-Only succeeded\", case=False)]\n",
    "    \n",
    "    guest_df.to_excel(FILE_PATH+ 'Guest Users - Graph.xlsx', index=False, sheet_name=\"Raw Data\")"
   ]
  },
  {
   "cell_type": "code",
   "execution_count": 11,
   "id": "f6c5b1f0",
   "metadata": {},
   "outputs": [],
   "source": [
    "def sq_hotspot(df):\n",
    "    hotspot_df = df[df[\"AUTHORIZATION_RULE\"].str.contains(\"Hotspot\", case=False)]\n",
    "    hotspot_df = hotspot_df[~hotspot_df[\"AUTHORIZATION_RULE\"].str.contains(\"redirect\", case=False)]\n",
    "#     hotspot_df = hotspot_df[hotspot_df[\"'SELECTED_AZN_PROFILES'\"].str.contains(\"PermitAccess\", case=False)]\n",
    "    hotspot_df = hotspot_df[hotspot_df[\"MESSAGETEXT\"].str.contains(\"Authorize-Only succeeded\", case=False)]\n",
    "#     print(len(hotspot_df.index))\n",
    "    \n",
    "    hotspot_df.to_excel(FILE_PATH+ 'Pre Auth Hotspot.xlsx', index=False, sheet_name=\"Raw Data\")"
   ]
  },
  {
   "cell_type": "code",
   "execution_count": 12,
   "id": "636ccb04",
   "metadata": {},
   "outputs": [],
   "source": [
    "def cibc_events(df):\n",
    "    events_df = df[df[\"AUTHORIZATION_RULE\"].str.contains(\"EVENT\", case=False)]\n",
    "    events_df = events_df[~events_df[\"AUTHORIZATION_RULE\"].str.contains(\"redirect\", case=False)]\n",
    "    events_df = events_df[events_df[\"SELECTED_AZN_PROFILES\"].str.contains(\"PermitAccess\", case=False)]\n",
    "    events_df = events_df[events_df[\"MESSAGETEXT\"].str.contains(\"Authorize-Only succeeded\", case=False)]\n",
    "    \n",
    "    events_df.to_excel(FILE_PATH+ 'CIBC Events - Graph.xlsx', index=False, sheet_name=\"Raw Data\")"
   ]
  },
  {
   "cell_type": "code",
   "execution_count": 13,
   "id": "256a03d5",
   "metadata": {},
   "outputs": [],
   "source": [
    "endpoint_count(combined_df)\n",
    "employee_byod(combined_df)\n",
    "cmc_guest(combined_df)\n",
    "sq_hotspot(combined_df)\n",
    "cibc_events(combined_df)"
   ]
  }
 ],
 "metadata": {
  "kernelspec": {
   "display_name": "Python 3 (ipykernel)",
   "language": "python",
   "name": "python3"
  },
  "language_info": {
   "codemirror_mode": {
    "name": "ipython",
    "version": 3
   },
   "file_extension": ".py",
   "mimetype": "text/x-python",
   "name": "python",
   "nbconvert_exporter": "python",
   "pygments_lexer": "ipython3",
   "version": "3.9.13"
  }
 },
 "nbformat": 4,
 "nbformat_minor": 5
}
