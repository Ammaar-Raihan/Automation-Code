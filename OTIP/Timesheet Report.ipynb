{
 "cells": [
  {
   "cell_type": "code",
   "execution_count": 1,
   "id": "65f629c4",
   "metadata": {},
   "outputs": [],
   "source": [
    "import openpyxl as xl\n",
    "import os"
   ]
  },
  {
   "cell_type": "code",
   "execution_count": 2,
   "id": "370930dc",
   "metadata": {},
   "outputs": [],
   "source": [
    "FILE_PATH = \"Z:\\\\20. Employees\\\\Ammaar Raihan\\\\OTIP Timesheet\"\n",
    "OTIP_tickets = os.path.join(FILE_PATH, \"OTIP Tickets.xlsx\")\n",
    "OTIP_timesheet = os.path.join(FILE_PATH,\"Time Tracking - OTIP_2020.xlsx\")"
   ]
  },
  {
   "cell_type": "code",
   "execution_count": null,
   "id": "a259a5ee",
   "metadata": {},
   "outputs": [],
   "source": [
    "# Load the relevant worksheet of the Tickets and Timesheet workbooks\n",
    "\n",
    "tickets_wb = xl.load_workbook(filename=OTIP_tickets)\n",
    "tickets_ws = tickets_wb[\"Sheet1\"]\n",
    "timesheet_wb = xl.load_workbook(filename=OTIP_timesheet)\n",
    "timesheet_ws = timesheet_wb[\"Time Log (OTIP)\"]"
   ]
  },
  {
   "cell_type": "code",
   "execution_count": 4,
   "id": "a2547d48",
   "metadata": {},
   "outputs": [],
   "source": [
    "# for cell in tickets_ws.values:\n",
    "#     print(cell)"
   ]
  },
  {
   "cell_type": "code",
   "execution_count": 5,
   "id": "eac29ae6",
   "metadata": {},
   "outputs": [],
   "source": [
    "tickets_ws.delete_cols(8) # Delete Column \"Priority\"\n",
    "tickets_ws.delete_cols(10) #Delete Column \"Message\", previous deletion shifted columns\n",
    "tickets_ws.delete_cols(10) #Delete Column \"Owner\", deletion shifts columns\n",
    "tickets_ws.delete_cols(11,12) #Delete 12 columns starting from column 11"
   ]
  },
  {
   "cell_type": "code",
   "execution_count": 6,
   "id": "1f5345ae",
   "metadata": {},
   "outputs": [],
   "source": [
    "#Insert Type and Art column headers\n",
    "tickets_ws['K1'] = \"Type\"\n",
    "tickets_ws['L1'] = \"ART\""
   ]
  },
  {
   "cell_type": "code",
   "execution_count": 7,
   "id": "cd9ad888",
   "metadata": {},
   "outputs": [],
   "source": [
    "def insert_art(row):\n",
    "    ts_ticket_col = 2\n",
    "    tk_ticket_col = 1\n",
    "    time_sum = 0\n",
    "    for row2 in range(2,timesheet_ws.max_row + 1):\n",
    "        if tickets_ws.cell(row,tk_ticket_col).value == timesheet_ws.cell(row2,ts_ticket_col).value:\n",
    "            time_sum = time_sum + float(timesheet_ws.cell(row2,8).value)\n",
    "    \n",
    "    tickets_ws.cell(row,12).value = time_sum"
   ]
  },
  {
   "cell_type": "code",
   "execution_count": 8,
   "id": "51be2bdd",
   "metadata": {},
   "outputs": [],
   "source": [
    "def insert_type(row):\n",
    "    breakfix_list = ['outage', 'downtime', 'disconnected client', 'disrupted connectivity', 'drop', 'down', 'not connecting', 'vpn slow', 'loss']\n",
    "    subject = tickets_ws.cell(row=row,column=9).value.lower()\n",
    "#     if (any(ele in subject for ele in projects_list) or is_project(tickets_ws.cell(row,1).value)):\n",
    "#         tickets_ws.cell(row=row,column=11).value = \"Projects\"\n",
    "    if (any(ele in subject for ele in breakfix_list)):\n",
    "        tickets_ws.cell(row=row,column=11).value = \"Breakfix\"\n",
    "    else:\n",
    "        tickets_ws.cell(row=row,column=11).value = \"Service request\""
   ]
  },
  {
   "cell_type": "code",
   "execution_count": 9,
   "id": "59d1f292",
   "metadata": {},
   "outputs": [],
   "source": [
    "def is_project(ticket_num):\n",
    "    for row in range(2,timesheet_ws.max_row + 1):\n",
    "        if ticket_num == timesheet_ws.cell(row,2).value.strip():\n",
    "            if timesheet_ws.cell(row,5).value and timesheet_ws.cell(row,5).value.lower().strip() != 'select one':\n",
    "                return True\n",
    "    \n",
    "    return False"
   ]
  },
  {
   "cell_type": "code",
   "execution_count": 10,
   "id": "31eabef9",
   "metadata": {},
   "outputs": [],
   "source": [
    "for row in range(2,tickets_ws.max_row + 1):\n",
    "    if tickets_ws.cell(row=row, column=8).value.lower().strip() == \"resolved\":\n",
    "        insert_art(row)\n",
    "        insert_type(row)"
   ]
  },
  {
   "cell_type": "code",
   "execution_count": 11,
   "id": "483454ae",
   "metadata": {},
   "outputs": [],
   "source": [
    "tickets_wb.save(os.path.join(FILE_PATH,\"December report test.xlsx\"))"
   ]
  },
  {
   "cell_type": "code",
   "execution_count": null,
   "id": "08f8c4df",
   "metadata": {},
   "outputs": [],
   "source": [
    "for cell in tickets_ws.values:\n",
    "    print(cell)"
   ]
  }
 ],
 "metadata": {
  "kernelspec": {
   "display_name": "Python 3 (ipykernel)",
   "language": "python",
   "name": "python3"
  },
  "language_info": {
   "codemirror_mode": {
    "name": "ipython",
    "version": 3
   },
   "file_extension": ".py",
   "mimetype": "text/x-python",
   "name": "python",
   "nbconvert_exporter": "python",
   "pygments_lexer": "ipython3",
   "version": "3.9.13"
  }
 },
 "nbformat": 4,
 "nbformat_minor": 5
}
