{
 "cells": [
  {
   "cell_type": "code",
   "execution_count": 2,
   "id": "de659991",
   "metadata": {},
   "outputs": [],
   "source": [
    "import pandas as pd\n",
    "import os"
   ]
  },
  {
   "cell_type": "code",
   "execution_count": 3,
   "id": "2f5fea2c",
   "metadata": {},
   "outputs": [],
   "source": [
    "FILE_PATH = \"Z:\\\\20. Employees\\\\Ammaar Raihan\\\\OTIP Timesheet\"\n",
    "OTIP_tickets = os.path.join(FILE_PATH, \"OTIP Tickets.xlsx\")\n",
    "OTIP_timesheet = os.path.join(FILE_PATH,\"Time Tracking - OTIP_2020.xlsx\")"
   ]
  },
  {
   "cell_type": "code",
   "execution_count": 4,
   "id": "912ee93e",
   "metadata": {},
   "outputs": [],
   "source": [
    "breakfix_list = ['outage', 'downtime', 'disconnected client', 'disrupted connectivity', 'drop', 'down', 'not connecting', 'vpn slow', 'loss']"
   ]
  },
  {
   "cell_type": "code",
   "execution_count": null,
   "id": "7bb362bb",
   "metadata": {},
   "outputs": [],
   "source": [
    "# Read the first excel sheet\n",
    "ticket_df = pd.read_excel(OTIP_tickets, usecols=[\"#\",\"Tracking ID\",\"Date\",\"Updated\",\"Name\",\"Email\",\"Category\",\"Priority\",\"Status\",\"Subject\",\"Message\",\"Time worked\"])\n",
    "\n",
    "# Read the second excel sheet\n",
    "timesheet_df = pd.read_excel(OTIP_timesheet, sheet_name=\"Time Log (OTIP)\",usecols = ['Ticket Number','Total Hours'])\n",
    "\n",
    "# Add a new column called \"Type\" to the first excel sheet\n",
    "ticket_df['Type'] = 0\n",
    "\n",
    "# Add a new column called \"Total Time\" to the first excel sheet\n",
    "ticket_df['ART'] = 0"
   ]
  },
  {
   "cell_type": "code",
   "execution_count": null,
   "id": "67503cf5",
   "metadata": {},
   "outputs": [],
   "source": [
    "timesheet_df.fillna"
   ]
  },
  {
   "cell_type": "code",
   "execution_count": 7,
   "id": "02e61e16",
   "metadata": {},
   "outputs": [],
   "source": [
    "# Iterate through each row in the first excel sheet\n",
    "for index, row in ticket_df.iterrows():\n",
    "    ticket_number = row['#']\n",
    "    \n",
    "    # Find all rows in the second excel sheet with the same ticket number\n",
    "    matching_rows = timesheet_df[timesheet_df['Ticket Number'] == ticket_number]\n",
    "    \n",
    "    # Calculate the total time for this ticket number\n",
    "    total_time = matching_rows['Total Hours'].sum()\n",
    "    \n",
    "    # Update the \"Total Time\" column in the first excel sheet\n",
    "    ticket_df.at[index, 'ART'] = total_time\n",
    "\n",
    "    # Check if subject contains any of the breakfix keywords\n",
    "    if (any(ele in row['Subject'].lower() for ele in breakfix_list)):\n",
    "        ticket_df.at[index, 'Type'] = 'Breakfix'\n",
    "    else:\n",
    "        ticket_df.at[index, 'Type'] = 'Service Request'"
   ]
  },
  {
   "cell_type": "code",
   "execution_count": 8,
   "id": "b17d537e",
   "metadata": {},
   "outputs": [],
   "source": [
    "ticket_df.to_excel(os.path.join(FILE_PATH,\"December report.xlsx\"), index=False)"
   ]
  },
  {
   "cell_type": "code",
   "execution_count": null,
   "id": "5d8c4be2",
   "metadata": {},
   "outputs": [],
   "source": []
  }
 ],
 "metadata": {
  "kernelspec": {
   "display_name": "Python 3 (ipykernel)",
   "language": "python",
   "name": "python3"
  },
  "language_info": {
   "codemirror_mode": {
    "name": "ipython",
    "version": 3
   },
   "file_extension": ".py",
   "mimetype": "text/x-python",
   "name": "python",
   "nbconvert_exporter": "python",
   "pygments_lexer": "ipython3",
   "version": "3.9.13"
  }
 },
 "nbformat": 4,
 "nbformat_minor": 5
}
